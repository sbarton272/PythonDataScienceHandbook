{
 "cells": [
  {
   "cell_type": "markdown",
   "metadata": {},
   "source": [
    "# Learnings"
   ]
  },
  {
   "cell_type": "code",
   "execution_count": 23,
   "metadata": {},
   "outputs": [],
   "source": [
    "import numpy as np\n",
    "import pandas as pd"
   ]
  },
  {
   "cell_type": "markdown",
   "metadata": {},
   "source": [
    "## Who knew these methods existed!"
   ]
  },
  {
   "cell_type": "code",
   "execution_count": 42,
   "metadata": {},
   "outputs": [
    {
     "name": "stdout",
     "output_type": "stream",
     "text": [
      "[0 1 2 3]\n"
     ]
    },
    {
     "data": {
      "text/plain": [
       "array([0, 1, 3, 6])"
      ]
     },
     "execution_count": 42,
     "metadata": {},
     "output_type": "execute_result"
    }
   ],
   "source": [
    "a = np.arange(4)\n",
    "print(a)\n",
    "np.add.accumulate(np.arange(4))"
   ]
  },
  {
   "cell_type": "code",
   "execution_count": 41,
   "metadata": {},
   "outputs": [
    {
     "data": {
      "text/plain": [
       "6"
      ]
     },
     "execution_count": 41,
     "metadata": {},
     "output_type": "execute_result"
    }
   ],
   "source": [
    "np.add.reduce(np.arange(4))"
   ]
  },
  {
   "cell_type": "code",
   "execution_count": 38,
   "metadata": {},
   "outputs": [
    {
     "data": {
      "text/plain": [
       "6"
      ]
     },
     "execution_count": 38,
     "metadata": {},
     "output_type": "execute_result"
    }
   ],
   "source": [
    "np.sum(np.arange(4))"
   ]
  },
  {
   "cell_type": "code",
   "execution_count": 5,
   "metadata": {},
   "outputs": [
    {
     "data": {
      "text/plain": [
       "array([[1, 1, 1],\n",
       "       [6, 6, 2],\n",
       "       [7, 9, 0]])"
      ]
     },
     "execution_count": 5,
     "metadata": {},
     "output_type": "execute_result"
    }
   ],
   "source": [
    "a = np.random.randint(10, size=(3, 3))\n",
    "a"
   ]
  },
  {
   "cell_type": "code",
   "execution_count": 7,
   "metadata": {},
   "outputs": [
    {
     "data": {
      "text/plain": [
       "array([[-6917529027641081856,  6917537815407072623,                    5],\n",
       "       [                   0,                    0,                    0],\n",
       "       [-6917529027641081856,  3458773301586529315, -6917529027641081854]])"
      ]
     },
     "execution_count": 7,
     "metadata": {},
     "output_type": "execute_result"
    }
   ],
   "source": [
    "b = np.empty_like(a)\n",
    "b"
   ]
  },
  {
   "cell_type": "code",
   "execution_count": 9,
   "metadata": {},
   "outputs": [
    {
     "data": {
      "text/plain": [
       "array([[  2,   2,   2],\n",
       "       [ 64,  64,   4],\n",
       "       [128, 512,   1]])"
      ]
     },
     "execution_count": 9,
     "metadata": {},
     "output_type": "execute_result"
    }
   ],
   "source": [
    "np.power(2, a, out=b)\n",
    "b"
   ]
  },
  {
   "cell_type": "code",
   "execution_count": 15,
   "metadata": {},
   "outputs": [
    {
     "name": "stdout",
     "output_type": "stream",
     "text": [
      "[[0 1 2]]\n",
      "[[0]\n",
      " [1]\n",
      " [2]]\n"
     ]
    },
    {
     "data": {
      "text/plain": [
       "array([[0, 1, 2],\n",
       "       [1, 2, 3],\n",
       "       [2, 3, 4]])"
      ]
     },
     "execution_count": 15,
     "metadata": {},
     "output_type": "execute_result"
    }
   ],
   "source": [
    "x = np.arange(3).reshape(1, -1)\n",
    "y = np.arange(3).reshape(-1, 1)\n",
    "\n",
    "print(x)\n",
    "print(y)\n",
    "x + y"
   ]
  },
  {
   "cell_type": "code",
   "execution_count": 22,
   "metadata": {},
   "outputs": [
    {
     "name": "stdout",
     "output_type": "stream",
     "text": [
      "[ 0.  1. nan  3.  4.]\n",
      "[ 0.  1. nan nan nan]\n"
     ]
    },
    {
     "data": {
      "text/plain": [
       "array([0., 1., 1., 4., 8.])"
      ]
     },
     "execution_count": 22,
     "metadata": {},
     "output_type": "execute_result"
    }
   ],
   "source": [
    "a = np.linspace(0, 4, 5)\n",
    "a[2] = np.nan\n",
    "\n",
    "print(a)\n",
    "print(np.cumsum(a))\n",
    "np.nancumsum(a)"
   ]
  },
  {
   "cell_type": "code",
   "execution_count": 24,
   "metadata": {},
   "outputs": [
    {
     "data": {
      "text/plain": [
       "\u001b[0;31mType:\u001b[0m        _IndexSlice\n",
       "\u001b[0;31mString form:\u001b[0m <pandas.core.indexing._IndexSlice object at 0x116b26518>\n",
       "\u001b[0;31mFile:\u001b[0m        ~/venv/lib/python3.6/site-packages/pandas/core/indexing.py\n",
       "\u001b[0;31mDocstring:\u001b[0m  \n",
       "Create an object to more easily perform multi-index slicing\n",
       "\n",
       "Examples\n",
       "--------\n",
       "\n",
       ">>> midx = pd.MultiIndex.from_product([['A0','A1'], ['B0','B1','B2','B3']])\n",
       ">>> columns = ['foo', 'bar']\n",
       ">>> dfmi = pd.DataFrame(np.arange(16).reshape((len(midx), len(columns))),\n",
       "                        index=midx, columns=columns)\n",
       "\n",
       "Using the default slice command:\n",
       "\n",
       ">>> dfmi.loc[(slice(None), slice('B0', 'B1')), :]\n",
       "           foo  bar\n",
       "    A0 B0    0    1\n",
       "       B1    2    3\n",
       "    A1 B0    8    9\n",
       "       B1   10   11\n",
       "\n",
       "Using the IndexSlice class for a more intuitive command:\n",
       "\n",
       ">>> idx = pd.IndexSlice\n",
       ">>> dfmi.loc[idx[:, 'B0':'B1'], :]\n",
       "           foo  bar\n",
       "    A0 B0    0    1\n",
       "       B1    2    3\n",
       "    A1 B0    8    9\n",
       "       B1   10   11\n"
      ]
     },
     "metadata": {},
     "output_type": "display_data"
    }
   ],
   "source": [
    "?pd.IndexSlice"
   ]
  },
  {
   "cell_type": "code",
   "execution_count": 29,
   "metadata": {},
   "outputs": [],
   "source": [
    "nrows, ncols = 100000, 3\n",
    "rng = np.random.RandomState(42)\n",
    "df1, df2, df3, df4 = (pd.DataFrame(rng.rand(nrows, ncols))\n",
    "                      for i in range(4))\n",
    "\n",
    "# Eval is faster\n",
    "pd.eval('-df1 * df2 / (df3 + df4)');"
   ]
  },
  {
   "cell_type": "code",
   "execution_count": 32,
   "metadata": {},
   "outputs": [
    {
     "data": {
      "text/html": [
       "<div>\n",
       "<style scoped>\n",
       "    .dataframe tbody tr th:only-of-type {\n",
       "        vertical-align: middle;\n",
       "    }\n",
       "\n",
       "    .dataframe tbody tr th {\n",
       "        vertical-align: top;\n",
       "    }\n",
       "\n",
       "    .dataframe thead th {\n",
       "        text-align: right;\n",
       "    }\n",
       "</style>\n",
       "<table border=\"1\" class=\"dataframe\">\n",
       "  <thead>\n",
       "    <tr style=\"text-align: right;\">\n",
       "      <th></th>\n",
       "      <th>A</th>\n",
       "      <th>B</th>\n",
       "      <th>C</th>\n",
       "      <th>D</th>\n",
       "    </tr>\n",
       "  </thead>\n",
       "  <tbody>\n",
       "    <tr>\n",
       "      <th>0</th>\n",
       "      <td>0.060142</td>\n",
       "      <td>0.217764</td>\n",
       "      <td>0.029372</td>\n",
       "      <td>9.461580</td>\n",
       "    </tr>\n",
       "    <tr>\n",
       "      <th>1</th>\n",
       "      <td>0.251282</td>\n",
       "      <td>0.883146</td>\n",
       "      <td>0.764247</td>\n",
       "      <td>1.484373</td>\n",
       "    </tr>\n",
       "    <tr>\n",
       "      <th>2</th>\n",
       "      <td>0.990463</td>\n",
       "      <td>0.151528</td>\n",
       "      <td>0.631808</td>\n",
       "      <td>1.807498</td>\n",
       "    </tr>\n",
       "    <tr>\n",
       "      <th>3</th>\n",
       "      <td>0.070641</td>\n",
       "      <td>0.951394</td>\n",
       "      <td>0.075030</td>\n",
       "      <td>13.621750</td>\n",
       "    </tr>\n",
       "    <tr>\n",
       "      <th>4</th>\n",
       "      <td>0.098904</td>\n",
       "      <td>0.744702</td>\n",
       "      <td>0.169776</td>\n",
       "      <td>4.968946</td>\n",
       "    </tr>\n",
       "  </tbody>\n",
       "</table>\n",
       "</div>"
      ],
      "text/plain": [
       "          A         B         C          D\n",
       "0  0.060142  0.217764  0.029372   9.461580\n",
       "1  0.251282  0.883146  0.764247   1.484373\n",
       "2  0.990463  0.151528  0.631808   1.807498\n",
       "3  0.070641  0.951394  0.075030  13.621750\n",
       "4  0.098904  0.744702  0.169776   4.968946"
      ]
     },
     "execution_count": 32,
     "metadata": {},
     "output_type": "execute_result"
    }
   ],
   "source": [
    "df = pd.DataFrame(rng.rand(5, 3), columns=['A', 'B', 'C'])\n",
    "df.eval('D = (A + B) / C', inplace=True)\n",
    "df.head()"
   ]
  },
  {
   "cell_type": "code",
   "execution_count": 33,
   "metadata": {},
   "outputs": [
    {
     "data": {
      "text/html": [
       "<div>\n",
       "<style scoped>\n",
       "    .dataframe tbody tr th:only-of-type {\n",
       "        vertical-align: middle;\n",
       "    }\n",
       "\n",
       "    .dataframe tbody tr th {\n",
       "        vertical-align: top;\n",
       "    }\n",
       "\n",
       "    .dataframe thead th {\n",
       "        text-align: right;\n",
       "    }\n",
       "</style>\n",
       "<table border=\"1\" class=\"dataframe\">\n",
       "  <thead>\n",
       "    <tr style=\"text-align: right;\">\n",
       "      <th></th>\n",
       "      <th>A</th>\n",
       "      <th>B</th>\n",
       "      <th>C</th>\n",
       "      <th>D</th>\n",
       "    </tr>\n",
       "  </thead>\n",
       "  <tbody>\n",
       "    <tr>\n",
       "      <th>0</th>\n",
       "      <td>0.060142</td>\n",
       "      <td>0.217764</td>\n",
       "      <td>0.029372</td>\n",
       "      <td>9.46158</td>\n",
       "    </tr>\n",
       "  </tbody>\n",
       "</table>\n",
       "</div>"
      ],
      "text/plain": [
       "          A         B         C        D\n",
       "0  0.060142  0.217764  0.029372  9.46158"
      ]
     },
     "execution_count": 33,
     "metadata": {},
     "output_type": "execute_result"
    }
   ],
   "source": [
    "df.query('A < 0.5 and B < 0.5')"
   ]
  },
  {
   "cell_type": "code",
   "execution_count": null,
   "metadata": {},
   "outputs": [],
   "source": []
  }
 ],
 "metadata": {
  "kernelspec": {
   "display_name": "Python 3",
   "language": "python",
   "name": "python3"
  },
  "language_info": {
   "codemirror_mode": {
    "name": "ipython",
    "version": 3
   },
   "file_extension": ".py",
   "mimetype": "text/x-python",
   "name": "python",
   "nbconvert_exporter": "python",
   "pygments_lexer": "ipython3",
   "version": "3.6.5"
  }
 },
 "nbformat": 4,
 "nbformat_minor": 2
}
